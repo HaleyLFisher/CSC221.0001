git add <CSC221-HaleyLFisher-GroupProject.ipynb .ipynb>
git commit -m "Add my notebook file"

