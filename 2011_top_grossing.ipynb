{
 "cells": [
  {
   "cell_type": "code",
   "execution_count": 2,
   "id": "85f90279",
   "metadata": {},
   "outputs": [
    {
     "name": "stdout",
     "output_type": "stream",
     "text": [
      "  Rank                                          Title           Distributor  \\\n",
      "0    1  Harry Potter and the Deathly Hallows – Part 2          Warner Bros.   \n",
      "1    2                 Transformers: Dark of the Moon             Paramount   \n",
      "2    3      The Twilight Saga: Breaking Dawn – Part 1  Summit Entertainment   \n",
      "3    4                           The Hangover Part II          Warner Bros.   \n",
      "4    5    Pirates of the Caribbean: On Stranger Tides                Disney   \n",
      "5    6                                      Fast Five             Universal   \n",
      "6    7           Mission: Impossible – Ghost Protocol             Paramount   \n",
      "7    8                                         Cars 2                Disney   \n",
      "8    9             Sherlock Holmes: A Game of Shadows          Warner Bros.   \n",
      "9   10                                           Thor             Paramount   \n",
      "\n",
      "  Domestic Gross  \n",
      "0   $381,011,219  \n",
      "1   $352,390,543  \n",
      "2   $281,287,133  \n",
      "3   $254,464,305  \n",
      "4   $241,071,802  \n",
      "5   $209,837,675  \n",
      "6   $209,397,903  \n",
      "7   $191,452,396  \n",
      "8   $186,848,418  \n",
      "9   $181,030,624  \n",
      "Top Grossing 2011 films created\n"
     ]
    }
   ],
   "source": [
    "import ssl\n",
    "from urllib.request import urlopen\n",
    "from bs4 import BeautifulSoup\n",
    "import pandas as pd\n",
    "\n",
    "ssl._create_default_https_context = ssl._create_unverified_context\n",
    "url = \"https://en.wikipedia.org/wiki/List_of_American_films_of_2011\"\n",
    "page = urlopen(url)\n",
    "\n",
    "bs = BeautifulSoup(page.read(), \"html.parser\")\n",
    "all_sortable_tables = bs.find_all(\"table\", class_=\"wikitable\")\n",
    "table = all_sortable_tables[0]\n",
    "\n",
    "A = []\n",
    "B = []\n",
    "C = []\n",
    "D = []\n",
    "\n",
    "for row in table.find_all(\"tr\")[1:]:  \n",
    "    cells = row.find_all([\"th\", \"td\"])\n",
    "    if len(cells) >= 4:  \n",
    "        A.append(cells[0].get_text().strip())  \n",
    "        B.append(cells[1].get_text().strip())  \n",
    "        C.append(cells[2].get_text().strip())  \n",
    "        D.append(cells[3].get_text().strip())  \n",
    "\n",
    "df = pd.DataFrame({'Rank': A, 'Title': B, 'Distributor': C, 'Domestic Gross': D})\n",
    "print(df)\n",
    "df.to_csv(\"Top_Grossing_2011_films.csv\")\n",
    "print(\"Top Grossing 2011 films created\")"
   ]
  },
  {
   "cell_type": "code",
   "execution_count": null,
   "id": "98cf53b9",
   "metadata": {},
   "outputs": [],
   "source": []
  }
 ],
 "metadata": {
  "kernelspec": {
   "display_name": "Python 3 (ipykernel)",
   "language": "python",
   "name": "python3"
  },
  "language_info": {
   "codemirror_mode": {
    "name": "ipython",
    "version": 3
   },
   "file_extension": ".py",
   "mimetype": "text/x-python",
   "name": "python",
   "nbconvert_exporter": "python",
   "pygments_lexer": "ipython3",
   "version": "3.11.5"
  }
 },
 "nbformat": 4,
 "nbformat_minor": 5
}
